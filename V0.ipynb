{
 "cells": [
  {
   "cell_type": "code",
   "execution_count": 1,
   "id": "26fc4030-5930-4457-9208-5c18afe35b32",
   "metadata": {},
   "outputs": [],
   "source": [
    "%load_ext autoreload\n",
    "\n",
    "%autoreload 2"
   ]
  },
  {
   "cell_type": "code",
   "execution_count": 2,
   "id": "f5c826d1-3165-4079-b472-0b89bd55370e",
   "metadata": {},
   "outputs": [],
   "source": [
    "from parsers import list_parser, subreddit_parser\n",
    "from openai_model import OpenAI_Model\n",
    "from reddit_api import fetch_top_reddit_comment"
   ]
  },
  {
   "cell_type": "code",
   "execution_count": 3,
   "id": "28aa31e5-e602-4c65-baca-9cec033abccc",
   "metadata": {},
   "outputs": [],
   "source": [
    "model = OpenAI_Model()"
   ]
  },
  {
   "cell_type": "code",
   "execution_count": 4,
   "id": "080b3c15-339a-4fdc-a8ec-0621b33062ed",
   "metadata": {},
   "outputs": [],
   "source": [
    "def ask_question_with_reddit(question, model):\n",
    "    subreddit_extraction_template = 'Which subreddit would be the best to answer the following question?\\nQuestion: \"\"\"{}\"\"\"'\n",
    "    keyword_extraction_template = 'Extract relevant keywords from the following question that could be used for a query. Format your answer as a python list.\\nQuestion: \"\"\"{}\"\"\"'\n",
    "    \n",
    "    final_query_template = 'Answer the following question to the best of your ability. If applicable, leverage the following context.\\nContext: \"\"\"{}\"\"\"\\nQuestion: \"\"\"{}\"\"\"'\n",
    "\n",
    "    subreddit = model.query(subreddit_extraction_template.format(question), parser=subreddit_parser)\n",
    "    keywords = model.query(keyword_extraction_template.format(question), parser=list_parser)\n",
    "\n",
    "    context_comments_list = fetch_top_reddit_comment(keywords, subreddit)\n",
    "    context_comments = '\\n\\n'.join(context_comments_list)\n",
    "\n",
    "    final_result = model.query(final_query_template.format(context_comments, question))\n",
    "\n",
    "    return final_result, (question, keywords, subreddit, context_comments_list)"
   ]
  },
  {
   "cell_type": "code",
   "execution_count": 5,
   "id": "3cdabfed-e21a-4612-8f06-fd204019785e",
   "metadata": {},
   "outputs": [],
   "source": [
    "def print_results(final_result, data):\n",
    "    question, keywords, subreddit, context_comment = data\n",
    "    \n",
    "    print(\"Initial Question: \")\n",
    "    print(\" - \", question)\n",
    "\n",
    "    print(\"Final Response: \")\n",
    "    print(\" - \", final_result)\n",
    "\n",
    "    print(\"Keywords Used: \")\n",
    "    print(\" - \", keywords)\n",
    "\n",
    "    print(\"Subreddit Selected Question: \")\n",
    "    print(\" - \", subreddit)\n",
    "\n",
    "    print(\"Comments Extracted: \")\n",
    "    for comment in context_comment: print(\"\\t -\", comment)\n"
   ]
  },
  {
   "cell_type": "code",
   "execution_count": 6,
   "id": "95834d97-63e5-4f3e-9bbf-a397ac590e7d",
   "metadata": {},
   "outputs": [
    {
     "name": "stdout",
     "output_type": "stream",
     "text": [
      "Initial Question: \n",
      " -  What is the new Palworld game about?\n",
      "Final Response: \n",
      " -  The new Palworld game is a mix of a survival game and a cozy questing and adventure game, with a cute element featuring \"pals\" that likely appeals to fans of cute and cozy games. It is described as the game that Ark and Pokémon fans have been waiting for, and is anticipated to have a PvP mode in the future.\n",
      "Keywords Used: \n",
      " -  ['new', 'Palworld', 'game']\n",
      "Subreddit Selected Question: \n",
      " -  r/gaming\n",
      "Comments Extracted: \n",
      "\t - I wish gamepass would release player numbers for it. Likely way higher than 2 mil across all platforms\n",
      "\t - Palworld is a game which Ark and Pokémon fans deserved for years.\n",
      "\t - Ive never played survival games that much and I tried this and loved it. The cute element of the pals and style of the game probably lurs a bunch of people who like cute cozy games too. It's the perfect mix of cozy questing and adventure. \n",
      "\n",
      "I hope when pvp is released it's in a different area so you can still play on your own. \n",
      "\n",
      "But I can see a bunch of amazing updates to this game that would knock our socks off like a world v world mode.\n"
     ]
    }
   ],
   "source": [
    "final_result, data = ask_question_with_reddit(\"What is the new Palworld game about?\", model)\n",
    "print_results(final_result, data)"
   ]
  },
  {
   "cell_type": "code",
   "execution_count": 7,
   "id": "52855a00-bfc1-4909-b9c9-1b87cbf5a07a",
   "metadata": {},
   "outputs": [
    {
     "name": "stdout",
     "output_type": "stream",
     "text": [
      "Initial Question: \n",
      " -  What is the new Palworld game about?\n",
      "Final Response: \n",
      " -  The new Palworld game is a mix of a survival game and a cozy questing and adventure game, with a cute element featuring \"pals\" that likely appeals to fans of cute and cozy games. It is described as the game that Ark and Pokémon fans have been waiting for, and is anticipated to have a PvP mode in the future.\n",
      "Keywords Used: \n",
      " -  ['new', 'Palworld', 'game']\n",
      "Subreddit Selected Question: \n",
      " -  r/gaming\n",
      "Comments Extracted: \n",
      "\t - I wish gamepass would release player numbers for it. Likely way higher than 2 mil across all platforms\n",
      "\t - Palworld is a game which Ark and Pokémon fans deserved for years.\n",
      "\t - Ive never played survival games that much and I tried this and loved it. The cute element of the pals and style of the game probably lurs a bunch of people who like cute cozy games too. It's the perfect mix of cozy questing and adventure. \n",
      "\n",
      "I hope when pvp is released it's in a different area so you can still play on your own. \n",
      "\n",
      "But I can see a bunch of amazing updates to this game that would knock our socks off like a world v world mode.\n"
     ]
    }
   ],
   "source": [
    "final_result, data = ask_question_with_reddit(\"What is the new Palworld game about?\", model)\n",
    "print_results(final_result, data)"
   ]
  },
  {
   "cell_type": "code",
   "execution_count": 8,
   "id": "d0db9109-a0cf-4015-837a-03c3f35d6db7",
   "metadata": {},
   "outputs": [
    {
     "name": "stdout",
     "output_type": "stream",
     "text": [
      "Initial Question: \n",
      " -  What is the recent news about Mark Zuckerberg at the senate child safety hearing?\n",
      "Final Response: \n",
      " -  I'm sorry, I do not have that information.\n",
      "Keywords Used: \n",
      " -  ['recent news', 'Mark Zuckerberg', 'senate', 'child safety hearing']\n",
      "Subreddit Selected Question: \n",
      " -  r/technology\n",
      "Comments Extracted: \n",
      "\t - Ah yes, the yearly public flogging of zuck by Congress. \n",
      "If they actually cared, why don’t they pass legislation to do something about it.\n",
      "\t - What is funny and ironic is that Hawley barking at him. The dude who encourage the insurrectionists and got caught on camera running away from them.\n"
     ]
    }
   ],
   "source": [
    "final_result, data = ask_question_with_reddit(\"What is the recent news about Mark Zuckerberg at the senate child safety hearing?\", model)\n",
    "print_results(final_result, data)"
   ]
  },
  {
   "cell_type": "code",
   "execution_count": 9,
   "id": "054d3368-42a3-45f6-83b2-71a8dbcf1234",
   "metadata": {},
   "outputs": [],
   "source": [
    "model.save_cache()"
   ]
  },
  {
   "cell_type": "code",
   "execution_count": null,
   "id": "df6105de-73b2-4144-8e05-871942c5366f",
   "metadata": {},
   "outputs": [],
   "source": []
  }
 ],
 "metadata": {
  "kernelspec": {
   "display_name": "Python 3 (ipykernel)",
   "language": "python",
   "name": "python3"
  },
  "language_info": {
   "codemirror_mode": {
    "name": "ipython",
    "version": 3
   },
   "file_extension": ".py",
   "mimetype": "text/x-python",
   "name": "python",
   "nbconvert_exporter": "python",
   "pygments_lexer": "ipython3",
   "version": "3.11.5"
  }
 },
 "nbformat": 4,
 "nbformat_minor": 5
}
